{
  "cells": [
    {
      "cell_type": "markdown",
      "metadata": {
        "id": "view-in-github",
        "colab_type": "text"
      },
      "source": [
        "<a href=\"https://colab.research.google.com/github/naveennuwantha/Dirrect_Downloader/blob/main/Dirrect_Downloader.ipynb\" target=\"_parent\"><img src=\"https://colab.research.google.com/assets/colab-badge.svg\" alt=\"Open In Colab\"/></a>"
      ]
    },
    {
      "cell_type": "code",
      "execution_count": null,
      "metadata": {
        "colab": {
          "base_uri": "https://localhost:8080/"
        },
        "id": "rksSqzkF-omC",
        "outputId": "e795f3d1-3730-46a6-9b39-cd4d130601b5"
      },
      "outputs": [
        {
          "output_type": "stream",
          "name": "stdout",
          "text": [
            "Mounted at /content/drive\n"
          ]
        }
      ],
      "source": [
        "from google.colab import drive\n",
        "drive.mount(\"/content/drive\")"
      ]
    },
    {
      "cell_type": "code",
      "execution_count": null,
      "metadata": {
        "colab": {
          "base_uri": "https://localhost:8080/"
        },
        "id": "KqMvkQvO_-Qz",
        "outputId": "9083c3d9-432d-4fc4-b7c5-a00232f2ab34"
      },
      "outputs": [
        {
          "output_type": "stream",
          "name": "stdout",
          "text": [
            "Requirement already satisfied: requests in /usr/local/lib/python3.10/dist-packages (2.32.3)\n",
            "Requirement already satisfied: charset-normalizer<4,>=2 in /usr/local/lib/python3.10/dist-packages (from requests) (3.3.2)\n",
            "Requirement already satisfied: idna<4,>=2.5 in /usr/local/lib/python3.10/dist-packages (from requests) (3.8)\n",
            "Requirement already satisfied: urllib3<3,>=1.21.1 in /usr/local/lib/python3.10/dist-packages (from requests) (2.0.7)\n",
            "Requirement already satisfied: certifi>=2017.4.17 in /usr/local/lib/python3.10/dist-packages (from requests) (2024.8.30)\n",
            "Requirement already satisfied: tqdm in /usr/local/lib/python3.10/dist-packages (4.66.5)\n"
          ]
        }
      ],
      "source": [
        "!pip install requests\n",
        "!pip install tqdm\n",
        "from tqdm import tqdm\n",
        "import os\n",
        "import sys\n",
        "from pathlib import Path\n",
        "import requests\n",
        "\n",
        "def download(url):\n",
        "  try:\n",
        "    filesize = int(requests.head(url).headers[\"Content-Length\"])\n",
        "    filename = os.path.basename(url)\n",
        "    print(filesize,filename)\n",
        "    home_path = Path.home()\n",
        "    home_path = \"/content/drive/MyDrive\"\n",
        "    sub_path = \"Movies\"\n",
        "    os.makedirs(os.path.join(home_path, sub_path), exist_ok=True)\n",
        "    dl_path = os.path.join(home_path, sub_path, filename)\n",
        "    chunk_size = 1024\n",
        "    with requests.get(url, stream=True) as r, open(dl_path, \"wb\") as f, tqdm(\n",
        "            unit=\"B\",\n",
        "            unit_scale=True,\n",
        "            unit_divisor=1024,\n",
        "            total=filesize,\n",
        "            file=sys.stdout,\n",
        "            desc=filename\n",
        "    ) as progress:\n",
        "        for chunk in r.iter_content(chunk_size=chunk_size):\n",
        "            datasize = f.write(chunk)\n",
        "            progress.update(datasize)\n",
        "  except:\n",
        "    pass"
      ]
    },
    {
      "cell_type": "code",
      "execution_count": null,
      "metadata": {
        "colab": {
          "base_uri": "https://localhost:8080/"
        },
        "id": "bkHTw203AWwW",
        "outputId": "c52c379c-d6fd-4406-8d56-ebedd7dc278a"
      },
      "outputs": [
        {
          "name": "stdout",
          "output_type": "stream",
          "text": [
            "Enter file URL : https://drive.usercontent.google.com/download?id=1HofBqr02gBzUjXXhNMusun7aRN5AwDfm&export=download&confirm=t&uuid=ba14d866-e023-48a5-be6b-1d6368149631\n",
            "Enter file URL : https://drive.usercontent.google.com/download?id=12p62JrXUJFXxoJV1-Ov_dHY1SKNz4QJC&export=download&confirm=t&uuid=0baf4ad4-09fe-4468-ac64-89e15f847bfb\n",
            "Enter file URL : https://drive.usercontent.google.com/download?id=1cl5rUKKUbqQ1TeRBF3fZqKlW8SYjuCPJ&export=download&confirm=t&uuid=f95c840c-6736-4744-8450-71bba7fba5e2\n",
            "Enter file URL : https://drive.usercontent.google.com/download?id=1T9rXqZ8IMVE-f7rGu9e413GmNea3q1Mn&export=download&confirm=t&uuid=2a4ae47f-5b09-4e5d-a18e-33372278c33d\n",
            "Enter file URL : https://drive.usercontent.google.com/download?id=1AfICtmC4BlcJLmB2hmsK1Jqh8dFylHEi&export=download&confirm=t&uuid=c4f2264f-3b52-40eb-8764-427ec485361b\n",
            "Enter file URL : https://drive.usercontent.google.com/download?id=1LWy8_RSS6vBMFRJlDPJFlQg29P-H1w6h&export=download&confirm=t&uuid=3be05890-683f-4f2c-ac54-1f5acdcdbc59\n",
            "Enter file URL : https://drive.usercontent.google.com/download?id=1G7q-0vJeDUmd_l3RojXy3xoJHY7hXT3R&export=download&confirm=t&uuid=8af7fb56-85c8-4f54-9399-81548dcbd5d7\n",
            "Enter file URL : https://drive.usercontent.google.com/download?id=1s9mK-ZHXURwPAwnDomFzLzGnfPYRva9A&export=download&confirm=t&uuid=7bc0109d-38f5-4ec6-87ae-8c13da1a5056\n",
            "Enter file URL : https://drive.usercontent.google.com/download?id=1uL07ZTuz29kQKpyawbzwJirOcRQWVRK0&export=download&confirm=t&uuid=dd506df0-f820-4065-b593-29c4410202f2\n",
            "Enter file URL : https://drive.usercontent.google.com/download?id=1WSHk6U2f2cpY3vdUk5zsDmoDmLbH0Mn9&export=download&confirm=t&uuid=82ebe48b-8651-4381-b763-5dce6112304e\n",
            "Enter file URL : exit\n"
          ]
        }
      ],
      "source": [
        "urls = []\n",
        "while True:\n",
        "  url = input(\"Enter file URL : \")\n",
        "  if url.lower()!=\"exit\":\n",
        "    urls.append(url)\n",
        "  else:\n",
        "    break"
      ]
    },
    {
      "cell_type": "code",
      "execution_count": null,
      "metadata": {
        "id": "5P955UmdAbSp",
        "colab": {
          "base_uri": "https://localhost:8080/"
        },
        "outputId": "f5e9ab12-b597-409a-c341-6872c6fb7c7d"
      },
      "outputs": [
        {
          "output_type": "stream",
          "name": "stdout",
          "text": [
            "1401901148 download?id=1HofBqr02gBzUjXXhNMusun7aRN5AwDfm&export=download&confirm=t&uuid=ba14d866-e023-48a5-be6b-1d6368149631\n",
            "download?id=1HofBqr02gBzUjXXhNMusun7aRN5AwDfm&export=download&confirm=t&uuid=ba14d866-e023-48a5-be6b-1d6368149631: 100%|██████████| 1.31G/1.31G [00:40<00:00, 35.0MB/s]\n",
            "1787802139 download?id=12p62JrXUJFXxoJV1-Ov_dHY1SKNz4QJC&export=download&confirm=t&uuid=0baf4ad4-09fe-4468-ac64-89e15f847bfb\n",
            "download?id=12p62JrXUJFXxoJV1-Ov_dHY1SKNz4QJC&export=download&confirm=t&uuid=0baf4ad4-09fe-4468-ac64-89e15f847bfb: 100%|██████████| 1.67G/1.67G [00:50<00:00, 35.7MB/s]\n",
            "1198697750 download?id=1cl5rUKKUbqQ1TeRBF3fZqKlW8SYjuCPJ&export=download&confirm=t&uuid=f95c840c-6736-4744-8450-71bba7fba5e2\n",
            "download?id=1cl5rUKKUbqQ1TeRBF3fZqKlW8SYjuCPJ&export=download&confirm=t&uuid=f95c840c-6736-4744-8450-71bba7fba5e2: 100%|██████████| 1.12G/1.12G [00:41<00:00, 29.1MB/s]\n",
            "1610557635 download?id=1T9rXqZ8IMVE-f7rGu9e413GmNea3q1Mn&export=download&confirm=t&uuid=2a4ae47f-5b09-4e5d-a18e-33372278c33d\n",
            "download?id=1T9rXqZ8IMVE-f7rGu9e413GmNea3q1Mn&export=download&confirm=t&uuid=2a4ae47f-5b09-4e5d-a18e-33372278c33d: 100%|██████████| 1.50G/1.50G [00:52<00:00, 30.5MB/s]\n",
            "1331584458 download?id=1AfICtmC4BlcJLmB2hmsK1Jqh8dFylHEi&export=download&confirm=t&uuid=c4f2264f-3b52-40eb-8764-427ec485361b\n",
            "download?id=1AfICtmC4BlcJLmB2hmsK1Jqh8dFylHEi&export=download&confirm=t&uuid=c4f2264f-3b52-40eb-8764-427ec485361b: 100%|██████████| 1.24G/1.24G [00:43<00:00, 30.4MB/s]\n",
            "1375581175 download?id=1LWy8_RSS6vBMFRJlDPJFlQg29P-H1w6h&export=download&confirm=t&uuid=3be05890-683f-4f2c-ac54-1f5acdcdbc59\n",
            "download?id=1LWy8_RSS6vBMFRJlDPJFlQg29P-H1w6h&export=download&confirm=t&uuid=3be05890-683f-4f2c-ac54-1f5acdcdbc59: 100%|██████████| 1.28G/1.28G [00:46<00:00, 29.7MB/s]\n",
            "1553547966 download?id=1G7q-0vJeDUmd_l3RojXy3xoJHY7hXT3R&export=download&confirm=t&uuid=8af7fb56-85c8-4f54-9399-81548dcbd5d7\n",
            "download?id=1G7q-0vJeDUmd_l3RojXy3xoJHY7hXT3R&export=download&confirm=t&uuid=8af7fb56-85c8-4f54-9399-81548dcbd5d7: 100%|██████████| 1.45G/1.45G [00:59<00:00, 26.0MB/s]\n",
            "1784072983 download?id=1s9mK-ZHXURwPAwnDomFzLzGnfPYRva9A&export=download&confirm=t&uuid=7bc0109d-38f5-4ec6-87ae-8c13da1a5056\n",
            "download?id=1s9mK-ZHXURwPAwnDomFzLzGnfPYRva9A&export=download&confirm=t&uuid=7bc0109d-38f5-4ec6-87ae-8c13da1a5056: 100%|██████████| 1.66G/1.66G [00:59<00:00, 29.7MB/s]\n",
            "1256072857 download?id=1uL07ZTuz29kQKpyawbzwJirOcRQWVRK0&export=download&confirm=t&uuid=dd506df0-f820-4065-b593-29c4410202f2\n",
            "download?id=1uL07ZTuz29kQKpyawbzwJirOcRQWVRK0&export=download&confirm=t&uuid=dd506df0-f820-4065-b593-29c4410202f2: 100%|██████████| 1.17G/1.17G [00:43<00:00, 28.6MB/s]\n",
            "1220566287 download?id=1WSHk6U2f2cpY3vdUk5zsDmoDmLbH0Mn9&export=download&confirm=t&uuid=82ebe48b-8651-4381-b763-5dce6112304e\n",
            "download?id=1WSHk6U2f2cpY3vdUk5zsDmoDmLbH0Mn9&export=download&confirm=t&uuid=82ebe48b-8651-4381-b763-5dce6112304e: 100%|██████████| 1.14G/1.14G [00:39<00:00, 30.7MB/s]\n"
          ]
        }
      ],
      "source": [
        " for url in urls:\n",
        "  download(url)"
      ]
    }
  ],
  "metadata": {
    "colab": {
      "provenance": [],
      "authorship_tag": "ABX9TyP6MBA/E7++IurKQs8Ho6tS",
      "include_colab_link": true
    },
    "kernelspec": {
      "display_name": "Python 3",
      "name": "python3"
    },
    "language_info": {
      "name": "python"
    }
  },
  "nbformat": 4,
  "nbformat_minor": 0
}